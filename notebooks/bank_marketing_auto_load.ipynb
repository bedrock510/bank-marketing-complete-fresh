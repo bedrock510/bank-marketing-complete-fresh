{
 "cells": [
  {
   "cell_type": "markdown",
   "id": "dc6c300d",
   "metadata": {},
   "source": [
    "\n",
    "# 📈 Bank Marketing Campaign Analysis (Auto-Loading Data)\n",
    "\n",
    "This notebook is **self-sufficient** — no file upload is required.\n",
    "\n",
    "### ✅ Instructions\n",
    "- Run the notebook in **Google Colab** or Jupyter\n",
    "- The dataset will load automatically from GitHub\n"
   ]
  },
  {
   "cell_type": "code",
   "execution_count": null,
   "id": "0953502b",
   "metadata": {},
   "outputs": [],
   "source": [
    "\n",
    "import pandas as pd\n",
    "url = \"https://raw.githubusercontent.com/bedrock510/bank_marketing_colab_ready/main/bank-additional-full.csv\"\n",
    "df = pd.read_csv(url, sep=';')\n",
    "print(\"✅ Data loaded from GitHub. Shape:\", df.shape)\n"
   ]
  },
  {
   "cell_type": "code",
   "execution_count": null,
   "id": "6f9d4ed7",
   "metadata": {},
   "outputs": [],
   "source": [
    "\n",
    "import numpy as np\n",
    "import matplotlib.pyplot as plt\n",
    "import seaborn as sns\n",
    "\n",
    "from sklearn.model_selection import train_test_split\n",
    "from sklearn.preprocessing import OneHotEncoder\n",
    "from sklearn.compose import ColumnTransformer\n",
    "from sklearn.pipeline import Pipeline\n",
    "from sklearn.impute import SimpleImputer\n",
    "from sklearn.ensemble import RandomForestClassifier\n",
    "from sklearn.linear_model import LogisticRegression\n",
    "from sklearn.metrics import classification_report, confusion_matrix, roc_auc_score\n"
   ]
  },
  {
   "cell_type": "code",
   "execution_count": null,
   "id": "34db5d17",
   "metadata": {},
   "outputs": [],
   "source": [
    "\n",
    "# Drop 'duration' due to leakage\n",
    "df = df.drop(columns=['duration'])\n",
    "\n",
    "# Prepare target and features\n",
    "y = df['y'].map({'no': 0, 'yes': 1})\n",
    "X = df.drop(columns=['y'])\n",
    "\n",
    "categorical_features = X.select_dtypes(include='object').columns.tolist()\n",
    "numerical_features = X.select_dtypes(include=['int64', 'float64']).columns.tolist()\n",
    "\n",
    "# Pipelines\n",
    "numeric_transformer = Pipeline([('imputer', SimpleImputer(strategy='median'))])\n",
    "categorical_transformer = Pipeline([\n",
    "    ('imputer', SimpleImputer(strategy='most_frequent')),\n",
    "    ('encoder', OneHotEncoder(handle_unknown='ignore'))\n",
    "])\n",
    "\n",
    "preprocessor = ColumnTransformer([\n",
    "    ('num', numeric_transformer, numerical_features),\n",
    "    ('cat', categorical_transformer, categorical_features)\n",
    "])\n"
   ]
  },
  {
   "cell_type": "code",
   "execution_count": null,
   "id": "1ed61a0c",
   "metadata": {},
   "outputs": [],
   "source": [
    "\n",
    "# Train-test split\n",
    "X_train, X_test, y_train, y_test = train_test_split(X, y, test_size=0.2, random_state=42)\n",
    "\n",
    "# Logistic Regression\n",
    "logreg_pipeline = Pipeline([\n",
    "    ('pre', preprocessor),\n",
    "    ('model', LogisticRegression(max_iter=1000))\n",
    "])\n",
    "logreg_pipeline.fit(X_train, y_train)\n",
    "log_preds = logreg_pipeline.predict(X_test)\n",
    "log_proba = logreg_pipeline.predict_proba(X_test)[:,1]\n",
    "\n",
    "# Random Forest\n",
    "rf_pipeline = Pipeline([\n",
    "    ('pre', preprocessor),\n",
    "    ('model', RandomForestClassifier(random_state=42))\n",
    "])\n",
    "rf_pipeline.fit(X_train, y_train)\n",
    "rf_preds = rf_pipeline.predict(X_test)\n",
    "rf_proba = rf_pipeline.predict_proba(X_test)[:,1]\n"
   ]
  },
  {
   "cell_type": "code",
   "execution_count": null,
   "id": "1d78201b",
   "metadata": {},
   "outputs": [],
   "source": [
    "\n",
    "# Logistic Regression\n",
    "print(\"Logistic Regression Results:\")\n",
    "print(confusion_matrix(y_test, log_preds))\n",
    "print(classification_report(y_test, log_preds))\n",
    "print(\"ROC AUC:\", roc_auc_score(y_test, log_proba))\n",
    "\n",
    "# Random Forest\n",
    "print(\"\\nRandom Forest Results:\")\n",
    "print(confusion_matrix(y_test, rf_preds))\n",
    "print(classification_report(y_test, rf_preds))\n",
    "print(\"ROC AUC:\", roc_auc_score(y_test, rf_proba))\n"
   ]
  },
  {
   "cell_type": "markdown",
   "id": "dba42b64",
   "metadata": {},
   "source": [
    "\n",
    "## ✅ Findings\n",
    "\n",
    "- The Random Forest model showed better overall recall and AUC\n",
    "- Categorical features like `contact`, `month`, and `education` were key predictors\n",
    "- This model could help marketing teams better target high-conversion leads\n",
    "\n",
    "## 🚀 Next Steps\n",
    "\n",
    "- Tune hyperparameters using GridSearchCV\n",
    "- Try boosting models (XGBoost, LightGBM)\n",
    "- Deploy model into bank's call strategy system\n"
   ]
  }
 ],
 "metadata": {},
 "nbformat": 4,
 "nbformat_minor": 5
}
